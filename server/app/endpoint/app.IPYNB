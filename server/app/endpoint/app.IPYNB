{
 "cells": [
  {
   "cell_type": "code",
   "execution_count": 18,
   "metadata": {},
   "outputs": [],
   "source": [
    "import cv2\n",
    "from PIL import Image\n",
    "import pytesseract\n",
    "import os\n",
    "import ollama"
   ]
  },
  {
   "cell_type": "code",
   "execution_count": 19,
   "metadata": {},
   "outputs": [
    {
     "name": "stdout",
     "output_type": "stream",
     "text": [
      "Sklep 6084 ul. Kozielska m 4\n",
      "w cejeronino Martins Polską\n",
      ". Żniwna 5, 62-025 kostrzyn\n",
      "NIP 116-10-11-327\n",
      "2024-08-13 11539 333093\n",
      "PARAGON FISKALNY\n",
      "\n",
      "4-100 |\n",
      "s,A.U\n",
      "\n",
      "Papier D Pieczenia A 1 x4,99 4, S9A\n",
      "PitaPszernażs(g ( 1 x4,71 4,74C\n",
      "MANN 5l ń 1 «4,49 4 49\n",
      "KrenGustobel Loż00g l 1x19,99 19,990\n",
      "ZapiekkebabZodąDonat  C ( «4,49 4,48C\n",
      "Ómiet Pi 18 200g ( 1 x2,59 2,590\n",
      "FrytkikarbMrPot kg ( _1x9,39 9,39C\n",
      "BenanbreninLuz | C..... 0,475 x6,98 3,320\n",
      "a Zeb OPODATKOWANA A 9,48\n",
      "\n",
      "PTU 6 23,00 % o 1,77\n",
      "SPRZEDAZ 0PODATKOKAKA ( 44,43\n",
      "PTU C 5,00 2,42\n",
      "SUHA PLN 53,87\n",
      "636 tkasa 15 Kasjer nr 18 2024-08- 43 1 39\n",
      "\n",
      "ROMY r JOSBTAEATAOC\n",
      "5 rc\n",
      "\n",
      "Karta Mastercard bit r? 53.97 PLN\n",
      "\n",
      "H transakcji: W\n",
      "\n",
      "JIET: 6084240813344015\n",
      "\n",
      "umer karty: | - 95Af«xunsD4d\n",
      "\n",
      "NE NID 7701406-41-377\n",
      "\n"
     ]
    }
   ],
   "source": [
    "\n",
    "pytesseract.pytesseract.tesseract_cmd = r'C:\\Program Files\\Tesseract-OCR\\tesseract.exe'\n",
    "\n",
    "path=os.getcwd()\n",
    "photo = os.path.join(path,\"test_data\", \"photo.jpg\")\n",
    "\n",
    "image = cv2.imread(photo)\n",
    "gray = cv2.cvtColor(image, cv2.COLOR_BGR2GRAY)\n",
    "gray = cv2.threshold(gray, 0, 255, cv2.THRESH_BINARY | cv2.THRESH_OTSU)[1]\n",
    "photo = Image.fromarray(gray)\n",
    "\n",
    "text = pytesseract.image_to_string(photo, lang='pol')\n",
    "\n",
    "print(text)\n"
   ]
  },
  {
   "cell_type": "code",
   "execution_count": 25,
   "metadata": {},
   "outputs": [
    {
     "name": "stdout",
     "output_type": "stream",
     "text": [
      "Here is the extracted information in JSON format:\n",
      "\n",
      "\"ITEMS\":[\n",
      "    {\n",
      "        \"NAME\": \"Papier do Pieczenia A\",\n",
      "        \"QUANTITY\": 1,\n",
      "        \"PRICE\": 4.99\n",
      "    },\n",
      "    {\n",
      "        \"NAME\": \"Pita Pszennażs(g \",\n",
      "        \"QUANTITY\": 1,\n",
      "        \"PRICE\": 4.71\n",
      "    },\n",
      "    {\n",
      "        \"NAME\": \"MANN 5l\",\n",
      "        \"QUANTITY\": 1,\n",
      "        \"PRICE\": 4.49\n",
      "    },\n",
      "    {\n",
      "        \"NAME\": \"Kren Gustobel Loż00g \",\n",
      "        \"QUANTITY\": 1,\n",
      "        \"PRICE\": 19.99\n",
      "    },\n",
      "    {\n",
      "        \"NAME\": \"Zapiekanka Bąbelki Donat \",\n",
      "        \"QUANTITY\": 1,\n",
      "        \"PRICE\": 4.49\n",
      "    },\n",
      "    {\n",
      "        \"NAME\": \"Śmietka Pi 18 200g\",\n",
      "        \"QUANTITY\": 1,\n",
      "        \"PRICE\": 2.59\n",
      "    },\n",
      "    {\n",
      "        \"NAME\": \"Frytki kark Mr Pot kg \",\n",
      "        \"QUANTITY\": 1,\n",
      "        \"PRICE\": 9.39\n",
      "    },\n",
      "    {\n",
      "        \"NAME\": \"Beneban brenin Luz C\",\n",
      "        \"QUANTITY\": 0.475,\n",
      "        \"PRICE\": 6.98\n",
      "    }\n",
      "]\n"
     ]
    }
   ],
   "source": [
    "response = ollama.chat(model='llama3.1', messages=[\n",
    "  {\n",
    "      'role':'system',\n",
    "      'content':'''You will be given a recipe summary in Polish, your task is to extract only all items and their prices, ignoring tax and information about transacion.\n",
    "        Write all information in JSON format. Dont write additional iformation or comments.\n",
    "        Each item must be as individual item. Keys: \"NAME\", \"QUANTITY\", \"PRICE\"\n",
    "        example:\n",
    "        \"ITEMS\":[\n",
    "    {\n",
    "        \"NAME\": \"example item 1\",\n",
    "        \"QUANTITY\": 2,\n",
    "        \"PRICE\": 10.99\n",
    "    },\n",
    "    {\n",
    "        \"NAME\": \"example item 2\",\n",
    "        \"QUANTITY\": 1,\n",
    "        \"PRICE\": 5.49\n",
    "    }\n",
    "]''',\n",
    "  },\n",
    "  {  \n",
    "    'role': 'user',\n",
    "    'content': f\"{text}\",\n",
    "  },\n",
    "])\n",
    "print(response['message']['content'])"
   ]
  },
  {
   "cell_type": "code",
   "execution_count": 26,
   "metadata": {},
   "outputs": [
    {
     "data": {
      "text/plain": [
       "'1'"
      ]
     },
     "execution_count": 26,
     "metadata": {},
     "output_type": "execute_result"
    }
   ],
   "source": [
    "response_2 = ollama.chat(model='llama3.1', messages=[\n",
    "  {  \n",
    "    'role': 'user',\n",
    "    'content': f\"If text delimited by triple backticks is in correct JSON formating, if yes return 1, if not return 0, dont give addisional information. \\n```{response['message']['content']}```\",\n",
    "  },\n",
    "])\n",
    "response_2['message']['content']"
   ]
  }
 ],
 "metadata": {
  "kernelspec": {
   "display_name": "Python 3",
   "language": "python",
   "name": "python3"
  },
  "language_info": {
   "codemirror_mode": {
    "name": "ipython",
    "version": 3
   },
   "file_extension": ".py",
   "mimetype": "text/x-python",
   "name": "python",
   "nbconvert_exporter": "python",
   "pygments_lexer": "ipython3",
   "version": "3.11.5"
  }
 },
 "nbformat": 4,
 "nbformat_minor": 2
}
